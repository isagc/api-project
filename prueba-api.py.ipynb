{
 "cells": [
  {
   "cell_type": "code",
   "execution_count": null,
   "metadata": {},
   "outputs": [],
   "source": [
    "#!/usr/bin/env python\n",
    "import bottle as bottle\n",
    "from bottle import route, run, get, post, request\n",
    "from mongo import db,coll\n",
    "import json\n",
    "import random\n",
    "import bson\n",
    "from bson.json_util import dumps\n",
    "import requests\n",
    "from connections import connectCollection\n",
    "# # este decorador route, vincula un codigo a una URL\n",
    "@get(\"/\")\n",
    "def index():\n",
    "    return dumps(coll.find())\n",
    "    \n",
    "@get(\"/<tipo>\")\n",
    "def conver(tipo):\n",
    "    return dumps(coll.find({'userName': tipo}))\n",
    "'''@post('/user/create')\n",
    "def newUser():\n",
    "    name = str(request.forms.get(\"name\"))\n",
    "    new_id = coll.distinct(\"idUser\")[-1] + 1\n",
    "    new_user = {\n",
    "        \"idUser\": new_id,\n",
    "        \"userName\": name\n",
    "    }\n",
    "    coll.insert_one(new_user)\n",
    "    print(f\"{name} added to collection with id {new_id}\")'''\n",
    "# POST \n",
    "@post('/names')\n",
    "def creation_user():\n",
    "    '''Handles name creation'''\n",
    "    data = request.json()\n",
    "    _names.add(name)\n",
    "    response.headers['Content-Type'] = 'application/json'\n",
    "    return json.dumps({'name': name})\n",
    "run(host='localhost', port=8080, debug=True)"
   ]
  }
 ],
 "metadata": {
  "kernelspec": {
   "display_name": "Python 3",
   "language": "python",
   "name": "python3"
  },
  "language_info": {
   "codemirror_mode": {
    "name": "ipython",
    "version": 3
   },
   "file_extension": ".py",
   "mimetype": "text/x-python",
   "name": "python",
   "nbconvert_exporter": "python",
   "pygments_lexer": "ipython3",
   "version": "3.7.4"
  }
 },
 "nbformat": 4,
 "nbformat_minor": 2
}
