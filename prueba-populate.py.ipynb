{
 "cells": [
  {
   "cell_type": "code",
   "execution_count": 1,
   "metadata": {},
   "outputs": [
    {
     "name": "stdout",
     "output_type": "stream",
     "text": [
      "Requirement already satisfied: dnspython in /usr/local/lib/python3.7/site-packages (1.16.0)\r\n"
     ]
    }
   ],
   "source": [
    "!pip3 install dnspython"
   ]
  },
  {
   "cell_type": "code",
   "execution_count": 2,
   "metadata": {},
   "outputs": [
    {
     "name": "stdout",
     "output_type": "stream",
     "text": [
      "Requirement already satisfied: pymongo[srv] in /usr/local/lib/python3.7/site-packages (3.9.0)\r\n",
      "Requirement already satisfied: dnspython<2.0.0,>=1.16.0; extra == \"srv\" in /usr/local/lib/python3.7/site-packages (from pymongo[srv]) (1.16.0)\r\n"
     ]
    }
   ],
   "source": [
    "!pip3 install pymongo[srv]"
   ]
  },
  {
   "cell_type": "code",
   "execution_count": 5,
   "metadata": {},
   "outputs": [
    {
     "name": "stdout",
     "output_type": "stream",
     "text": [
      "Insert your AtlasMongoDB admin_1019 password: ········\n"
     ]
    }
   ],
   "source": [
    "#!/usr/bin/python3\n",
    "import pymongo\n",
    "from pymongo import MongoClient\n",
    "import getpass\n",
    "import json\n",
    "\n",
    "#Get Password\n",
    "password = getpass.getpass(\"Insert your AtlasMongoDB admin_1019 password: \")\n",
    "connection = \"mongodb+srv://isagc:{}@cluster0-qz21x.mongodb.net/test?retryWrites=true&w=majority\".format(password)\n",
    "\n",
    "#Connect to DB\n",
    "client = MongoClient(connection)\n",
    "def connectCollection(database, collection):\n",
    "    db = client[database]\n",
    "    coll = db[collection]\n",
    "    return db, coll\n",
    "\n",
    "db, coll = connectCollection('api-project','api-project')\n",
    "\n",
    "with open('./chats.json') as f:\n",
    "    chats_json = json.load(f)\n",
    "\n",
    "if coll == 0:\n",
    "    coll.insert_many(chats_json)"
   ]
  },
  {
   "cell_type": "code",
   "execution_count": 13,
   "metadata": {},
   "outputs": [
    {
     "name": "stderr",
     "output_type": "stream",
     "text": [
      "Bottle v0.12.17 server starting up (using WSGIRefServer())...\n",
      "Listening on http://0.0.0.0:8080/\n",
      "Hit Ctrl-C to quit.\n",
      "\n",
      "127.0.0.1 - - [01/Dec/2019 14:12:38] \"GET / HTTP/1.1\" 200 10177\n",
      "/usr/local/lib/python3.7/site-packages/bottle.py:3133: ResourceWarning: unclosed <socket.socket fd=65, family=AddressFamily.AF_INET, type=SocketKind.SOCK_STREAM, proto=0, laddr=('0.0.0.0', 8080)>\n",
      "  pass\n",
      "ResourceWarning: Enable tracemalloc to get the object allocation traceback\n"
     ]
    }
   ],
   "source": [
    "#!/usr/bin/env python\n",
    "\n",
    "import bottle as bottle\n",
    "from bottle import route, run, get, post, request\n",
    "#from populate import db,coll, connectCollection\n",
    "import json\n",
    "import random\n",
    "import bson\n",
    "from bson.json_util import dumps\n",
    "import requests\n",
    "\n",
    "\n",
    "# # este decorador route, vincula un codigo a una URL\n",
    "@get(\"/\")\n",
    "def index():\n",
    "    return dumps(coll.find())  \n",
    "\n",
    "\n",
    "@get(\"/<tipo>\")\n",
    "def conver(tipo):\n",
    "    return dumps(coll.find({'userName': tipo}))\n",
    "\n",
    "run(host=\"0.0.0.0\", port=8080, debug=True)"
   ]
  },
  {
   "cell_type": "code",
   "execution_count": null,
   "metadata": {},
   "outputs": [],
   "source": [
    "'''\n",
    "@post('/user/create')\n",
    "def newUser():\n",
    "    name = str(request.forms.get(\"name\"))\n",
    "    new_id = coll.distinct(\"idUser\")[-1] + 1\n",
    "    new_user = {\n",
    "        \"idUser\": new_id,\n",
    "        \"userName\": name\n",
    "    }\n",
    "    coll.insert_one(new_user)\n",
    "    print(f\"{name} added to collection with id {new_id}\")\n",
    "\n",
    "run(host=\"0.0.0.0\", port=8080, debug=True)\n",
    "'''"
   ]
  }
 ],
 "metadata": {
  "kernelspec": {
   "display_name": "Python 3",
   "language": "python",
   "name": "python3"
  },
  "language_info": {
   "codemirror_mode": {
    "name": "ipython",
    "version": 3
   },
   "file_extension": ".py",
   "mimetype": "text/x-python",
   "name": "python",
   "nbconvert_exporter": "python",
   "pygments_lexer": "ipython3",
   "version": "3.7.4"
  }
 },
 "nbformat": 4,
 "nbformat_minor": 2
}
